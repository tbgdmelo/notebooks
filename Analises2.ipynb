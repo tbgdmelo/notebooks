{
 "cells": [
  {
   "cell_type": "code",
   "execution_count": 3,
   "id": "36b0941d",
   "metadata": {},
   "outputs": [],
   "source": [
    "import requests\n",
    "import json\n",
    "import time\n",
    "import tweepy\n",
    "import re\n",
    "import numpy as np\n",
    "import pandas as pd\n",
    "import matplotlib.pyplot as plt\n",
    "import nltk\n",
    "%matplotlib inline"
   ]
  },
  {
   "cell_type": "code",
   "execution_count": 95,
   "id": "1a4d9fb1",
   "metadata": {},
   "outputs": [],
   "source": [
    "from sklearn.feature_extraction.text import CountVectorizer #para gerar a representação de frequência\n",
    "from sklearn.naive_bayes import BernoulliNB #Naive Bayes"
   ]
  },
  {
   "cell_type": "code",
   "execution_count": 96,
   "id": "691c06fa",
   "metadata": {},
   "outputs": [],
   "source": [
    "df = pd.read_csv('dataframe_imdb.csv')"
   ]
  },
  {
   "cell_type": "code",
   "execution_count": 97,
   "id": "16d23267",
   "metadata": {},
   "outputs": [],
   "source": [
    "stop_words = nltk.corpus.stopwords.words('portuguese')"
   ]
  },
  {
   "cell_type": "code",
   "execution_count": 109,
   "id": "a3b3ae87",
   "metadata": {},
   "outputs": [],
   "source": [
    "vetorizador = CountVectorizer(binary = 'true')\n",
    "coment_treino = vetorizador.fit_transform(df.text)\n",
    "modelo2=BernoulliNB().fit(coment_treino, df.sentiment_int)"
   ]
  },
  {
   "cell_type": "code",
   "execution_count": 132,
   "id": "2e8091b7",
   "metadata": {},
   "outputs": [
    {
     "data": {
      "text/plain": [
       "array([0])"
      ]
     },
     "execution_count": 132,
     "metadata": {},
     "output_type": "execute_result"
    }
   ],
   "source": [
    "#1 = ruim\n",
    "#0 = boa\n",
    "result = modelo2.predict(vetorizador.transform([\"Por isso a torcida do Vasco ama o Ribamar, acaba de ganhar.\"]))\n",
    "result"
   ]
  },
  {
   "cell_type": "code",
   "execution_count": null,
   "id": "3b23eb41",
   "metadata": {},
   "outputs": [],
   "source": []
  }
 ],
 "metadata": {
  "kernelspec": {
   "display_name": "Python 3 (ipykernel)",
   "language": "python",
   "name": "python3"
  },
  "language_info": {
   "codemirror_mode": {
    "name": "ipython",
    "version": 3
   },
   "file_extension": ".py",
   "mimetype": "text/x-python",
   "name": "python",
   "nbconvert_exporter": "python",
   "pygments_lexer": "ipython3",
   "version": "3.8.10"
  }
 },
 "nbformat": 4,
 "nbformat_minor": 5
}
