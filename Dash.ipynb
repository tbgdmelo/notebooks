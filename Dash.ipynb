{
 "cells": [
  {
   "cell_type": "code",
   "execution_count": 1,
   "id": "signal-roberts",
   "metadata": {},
   "outputs": [],
   "source": [
    "import requests\n",
    "import json\n",
    "import time\n",
    "import re\n",
    "import random\n",
    "import pymongo\n",
    "import pandas as pd"
   ]
  },
  {
   "cell_type": "code",
   "execution_count": 2,
   "id": "dfd4ec44",
   "metadata": {},
   "outputs": [],
   "source": [
    "def tratamento(t):\n",
    "        #remover os @ marcados no tweet\n",
    "        t=re.sub(r'@[aA-zZ]* ', '', t, flags=re.MULTILINE)\n",
    "\n",
    "        #remover dados quando é RT\n",
    "        t=re.sub(r'RT @*[aA-zZ]*[0-9]*: ', '', t, flags=re.MULTILINE)\n",
    "\n",
    "        #remover links\n",
    "        t=re.sub(r'https:\\/\\/t.co\\/*[aA0-zZ9]* ', '', t, flags=re.MULTILINE)\n",
    "        \n",
    "        #remover hashtags\n",
    "        t=re.sub(r'#[aA-zZ]*[0-9]*', '', t, flags=re.MULTILINE)\n",
    "\n",
    "        emoji_pattern = re.compile(\"[\"\n",
    "                u\"\\U0001F600-\\U0001F64F\"  # emoticons\n",
    "                u\"\\U0001F300-\\U0001F5FF\"  # symbols & pictographs\n",
    "                u\"\\U0001F680-\\U0001F6FF\"  # transport & map symbols\n",
    "                u\"\\U0001F1E0-\\U0001F1FF\"  # flags (iOS)\n",
    "                                \"]+\", flags=re.UNICODE)\n",
    "\n",
    "        t=emoji_pattern.sub(r' ', t)\n",
    "\n",
    "\n",
    "        return t"
   ]
  },
  {
   "cell_type": "code",
   "execution_count": 3,
   "id": "3260d419",
   "metadata": {},
   "outputs": [],
   "source": [
    "def connection(name_bd):\n",
    "    myclient = pymongo.MongoClient(\"mongodb://localhost:27017/\")\n",
    "    mydb = myclient[name_bd]\n",
    "    return mydb"
   ]
  },
  {
   "cell_type": "code",
   "execution_count": 4,
   "id": "5536f77d",
   "metadata": {},
   "outputs": [],
   "source": [
    "#buscar uma collection especifica informando o nome da collection e do banco\n",
    "#[retorno é um dicionário com a collection]\n",
    "def get_collection(name_collection, mydb):\n",
    "    collection = mydb[name_collection]\n",
    "    return collection"
   ]
  },
  {
   "cell_type": "code",
   "execution_count": 5,
   "id": "eea87d63",
   "metadata": {},
   "outputs": [],
   "source": [
    "#retorna uma lista de dicionarios\n",
    "#cada dicionario tem a forma {'tema':'nome_tema', 'tweets': []}\n",
    "#em tweets sera uma lista de tweets sobre cada tema presente na collection\n",
    "\n",
    "#recebe como parametro uma collection\n",
    "def get_all_tweets(collection):\n",
    "    l_tweets=[]\n",
    "    for doc in collection.find():    \n",
    "        j=0 #controla cada tema da collection\n",
    "\n",
    "        i=0 #controla cada tweet sobre o tema\n",
    "\n",
    "        #criar o dicionario para o tema\n",
    "        dic={'tema':doc['tema'],'tweets':[]}\n",
    "        while(i<len(doc['tweet'])):\n",
    "            dic['tweets'].append(doc['tweet'][i]['texto'])\n",
    "            i=i+1\n",
    "\n",
    "        l_tweets.append(dic)\n",
    "        j=j+1\n",
    "    \n",
    "    return l_tweets"
   ]
  },
  {
   "cell_type": "code",
   "execution_count": 6,
   "id": "ebda7241",
   "metadata": {},
   "outputs": [],
   "source": [
    "#coletar o tweet do banco\n",
    "banco=connection('dashboard')\n",
    "#nome de todas as collections do bd\n",
    "all_NamesCollections = banco.list_collection_names()\n",
    "i=0\n",
    "l_collection=[] #lista de collections\n",
    "while(i<3):\n",
    "    x = random.randint(0,len(all_NamesCollections))\n",
    "    l_collection.append(get_collection(all_NamesCollections[x],banco))\n",
    "    i=i+1"
   ]
  },
  {
   "cell_type": "code",
   "execution_count": 7,
   "id": "c71c0ac8",
   "metadata": {
    "scrolled": true
   },
   "outputs": [
    {
     "data": {
      "text/html": [
       "<div>\n",
       "<style scoped>\n",
       "    .dataframe tbody tr th:only-of-type {\n",
       "        vertical-align: middle;\n",
       "    }\n",
       "\n",
       "    .dataframe tbody tr th {\n",
       "        vertical-align: top;\n",
       "    }\n",
       "\n",
       "    .dataframe thead th {\n",
       "        text-align: right;\n",
       "    }\n",
       "</style>\n",
       "<table border=\"1\" class=\"dataframe\">\n",
       "  <thead>\n",
       "    <tr style=\"text-align: right;\">\n",
       "      <th></th>\n",
       "      <th>tema</th>\n",
       "      <th>texto</th>\n",
       "    </tr>\n",
       "  </thead>\n",
       "  <tbody>\n",
       "  </tbody>\n",
       "</table>\n",
       "</div>"
      ],
      "text/plain": [
       "Empty DataFrame\n",
       "Columns: [tema, texto]\n",
       "Index: []"
      ]
     },
     "execution_count": 7,
     "metadata": {},
     "output_type": "execute_result"
    }
   ],
   "source": [
    "df = pd.DataFrame(columns=[\"tema\",\"texto\"])\n",
    "df"
   ]
  },
  {
   "cell_type": "code",
   "execution_count": 8,
   "id": "6f0d8701",
   "metadata": {},
   "outputs": [
    {
     "data": {
      "text/html": [
       "<div>\n",
       "<style scoped>\n",
       "    .dataframe tbody tr th:only-of-type {\n",
       "        vertical-align: middle;\n",
       "    }\n",
       "\n",
       "    .dataframe tbody tr th {\n",
       "        vertical-align: top;\n",
       "    }\n",
       "\n",
       "    .dataframe thead th {\n",
       "        text-align: right;\n",
       "    }\n",
       "</style>\n",
       "<table border=\"1\" class=\"dataframe\">\n",
       "  <thead>\n",
       "    <tr style=\"text-align: right;\">\n",
       "      <th></th>\n",
       "      <th>tema</th>\n",
       "      <th>texto</th>\n",
       "    </tr>\n",
       "  </thead>\n",
       "  <tbody>\n",
       "    <tr>\n",
       "      <th>0</th>\n",
       "      <td>#ProvaDeFogo</td>\n",
       "      <td>Érika protagonista. Érika injustiçada! Pode en...</td>\n",
       "    </tr>\n",
       "    <tr>\n",
       "      <th>1</th>\n",
       "      <td>#ProvaDeFogo</td>\n",
       "      <td>A Tati falando que a Érika não joga bem, Imagi...</td>\n",
       "    </tr>\n",
       "    <tr>\n",
       "      <th>2</th>\n",
       "      <td>#ProvaDeFogo</td>\n",
       "      <td>Eliminem a Tati para ela ficar com o Mussunzin...</td>\n",
       "    </tr>\n",
       "    <tr>\n",
       "      <th>3</th>\n",
       "      <td>#ProvaDeFogo</td>\n",
       "      <td>O diálogo da briga do Rico e Solange sempre no...</td>\n",
       "    </tr>\n",
       "    <tr>\n",
       "      <th>4</th>\n",
       "      <td>#ProvaDeFogo</td>\n",
       "      <td>a adriane nem esconde pra quem estava torcendo...</td>\n",
       "    </tr>\n",
       "  </tbody>\n",
       "</table>\n",
       "</div>"
      ],
      "text/plain": [
       "           tema                                              texto\n",
       "0  #ProvaDeFogo  Érika protagonista. Érika injustiçada! Pode en...\n",
       "1  #ProvaDeFogo  A Tati falando que a Érika não joga bem, Imagi...\n",
       "2  #ProvaDeFogo  Eliminem a Tati para ela ficar com o Mussunzin...\n",
       "3  #ProvaDeFogo  O diálogo da briga do Rico e Solange sempre no...\n",
       "4  #ProvaDeFogo  a adriane nem esconde pra quem estava torcendo..."
      ]
     },
     "execution_count": 8,
     "metadata": {},
     "output_type": "execute_result"
    }
   ],
   "source": [
    "#coletar o tweet do banco\n",
    "\n",
    "collection = get_collection('10/05/2021, 00:16:10',banco)\n",
    "\n",
    "df = pd.DataFrame(columns=[\"tema\",\"texto\"])\n",
    "\n",
    "#coletar os tweets da base pra poder gerar o df\n",
    "k=0\n",
    "lista = get_all_tweets( collection )\n",
    "        \n",
    "p=0\n",
    "while(p<len(lista)):\n",
    "    for tweet in lista[p]['tweets']:\n",
    "        df.loc[len(df)]=[ lista[p]['tema'], tratamento(tweet)]\n",
    "                \n",
    "    p+=1\n",
    "k+=1\n",
    "\n",
    "df.head()"
   ]
  },
  {
   "cell_type": "code",
   "execution_count": 9,
   "id": "0b4a0c69",
   "metadata": {},
   "outputs": [],
   "source": [
    "#coletar os tweets da base pra poder gerar a base de testes\n",
    "k=0\n",
    "while(k<len(l_collection)):\n",
    "    lista = get_all_tweets( l_collection[k] )\n",
    "    \n",
    "    p=0\n",
    "    while(p<len(lista)):\n",
    "        for tweet in lista[p]['tweets']:\n",
    "            df.loc[len(df)]=[ lista[p]['tema'], tratamento(tweet)]\n",
    "            \n",
    "        p+=1\n",
    "    k+=1"
   ]
  },
  {
   "cell_type": "code",
   "execution_count": 146,
   "id": "694451fb",
   "metadata": {},
   "outputs": [],
   "source": [
    "df.to_csv('dados_testes.csv')"
   ]
  },
  {
   "cell_type": "markdown",
   "id": "6b8c6900",
   "metadata": {},
   "source": [
    "Aqui começa os passos para obter a análise de sentimentos do tema"
   ]
  },
  {
   "cell_type": "code",
   "execution_count": 10,
   "id": "54e1bb3d",
   "metadata": {},
   "outputs": [],
   "source": [
    "#coletar o nome das ultimas 10 collections\n",
    "all_NamesCollections = banco.list_collection_names()\n",
    "all_NamesCollections.sort()\n",
    "\n",
    "#nomes das ultimas collections\n",
    "ultimos=[]\n",
    "i=1\n",
    "while(i<10):\n",
    "    ultimos.append( all_NamesCollections[len(all_NamesCollections)-i])\n",
    "    i+=1\n",
    "ultimos\n",
    "\n",
    "i=0\n",
    "l_collection=[] #lista com obj collections\n",
    "while(i<len(ultimos)):\n",
    "    l_collection.append(get_collection(ultimos[i],banco))\n",
    "    i+=1"
   ]
  },
  {
   "cell_type": "code",
   "execution_count": 11,
   "id": "f9ac51fc",
   "metadata": {},
   "outputs": [],
   "source": [
    "#cria um dataframe de todas as collections juntas\n",
    "df2 = pd.DataFrame(columns=[\"tema\",\"texto\"])\n",
    "#coletar os tweets da base pra poder gerar o df\n",
    "k=0\n",
    "while(k<len(l_collection)):\n",
    "    lista = get_all_tweets( l_collection[k] )\n",
    "    \n",
    "    p=0\n",
    "    while(p<len(lista)):\n",
    "        for tweet in lista[p]['tweets']:\n",
    "            df2.loc[len(df2)]=[ lista[p]['tema'], tratamento(tweet)]\n",
    "            \n",
    "        p+=1\n",
    "    k+=1"
   ]
  },
  {
   "cell_type": "code",
   "execution_count": 12,
   "id": "78a5f2bb",
   "metadata": {},
   "outputs": [],
   "source": [
    "#conta quantos temas tem no dataframe\n",
    "temas = df2['tema'].value_counts()"
   ]
  },
  {
   "cell_type": "code",
   "execution_count": 13,
   "id": "9c8825d7",
   "metadata": {},
   "outputs": [],
   "source": [
    "#cria um dicionario com os temas e quantos tweets ele tem\n",
    "#cria uma lista com os nomes dos temas\n",
    "dic_temas  = dict(temas)\n",
    "nome_temas = list(dic_temas.keys())"
   ]
  },
  {
   "cell_type": "code",
   "execution_count": 14,
   "id": "01a0f246",
   "metadata": {},
   "outputs": [],
   "source": [
    "#removendo temas que tem menos de 100 tweets coletados\n",
    "i=0\n",
    "while(i<len(nome_temas)):\n",
    "    if(dic_temas[nome_temas[i]] < 100):\n",
    "        del dic_temas[nome_temas[i]]\n",
    "    i+=1"
   ]
  },
  {
   "cell_type": "code",
   "execution_count": 15,
   "id": "cbdb4943",
   "metadata": {},
   "outputs": [],
   "source": [
    "s = 'Venezuela'"
   ]
  },
  {
   "cell_type": "code",
   "execution_count": 16,
   "id": "d6cab427",
   "metadata": {},
   "outputs": [
    {
     "data": {
      "text/html": [
       "<div>\n",
       "<style scoped>\n",
       "    .dataframe tbody tr th:only-of-type {\n",
       "        vertical-align: middle;\n",
       "    }\n",
       "\n",
       "    .dataframe tbody tr th {\n",
       "        vertical-align: top;\n",
       "    }\n",
       "\n",
       "    .dataframe thead th {\n",
       "        text-align: right;\n",
       "    }\n",
       "</style>\n",
       "<table border=\"1\" class=\"dataframe\">\n",
       "  <thead>\n",
       "    <tr style=\"text-align: right;\">\n",
       "      <th></th>\n",
       "      <th>tema</th>\n",
       "      <th>texto</th>\n",
       "    </tr>\n",
       "  </thead>\n",
       "  <tbody>\n",
       "    <tr>\n",
       "      <th>19931</th>\n",
       "      <td>Venezuela</td>\n",
       "      <td>O q eu quero hoje \\n\\nGol do Gabigol assistênc...</td>\n",
       "    </tr>\n",
       "    <tr>\n",
       "      <th>19932</th>\n",
       "      <td>Venezuela</td>\n",
       "      <td>Empatou Ag 1 x 1.....\\nAinda tem gente que\\nFa...</td>\n",
       "    </tr>\n",
       "    <tr>\n",
       "      <th>19933</th>\n",
       "      <td>Venezuela</td>\n",
       "      <td>Gol do Brasil - Marquinhos \\nVenezuela 1x1 Bra...</td>\n",
       "    </tr>\n",
       "    <tr>\n",
       "      <th>19934</th>\n",
       "      <td>Venezuela</td>\n",
       "      <td>● ELIMINATÓRIAS COPA DO MUNDO ●\\nGOOOOOOOOOOOO...</td>\n",
       "    </tr>\n",
       "    <tr>\n",
       "      <th>19935</th>\n",
       "      <td>Venezuela</td>\n",
       "      <td>Venezuela tomou Gol, agora eles querem apelar ...</td>\n",
       "    </tr>\n",
       "  </tbody>\n",
       "</table>\n",
       "</div>"
      ],
      "text/plain": [
       "            tema                                              texto\n",
       "19931  Venezuela  O q eu quero hoje \\n\\nGol do Gabigol assistênc...\n",
       "19932  Venezuela  Empatou Ag 1 x 1.....\\nAinda tem gente que\\nFa...\n",
       "19933  Venezuela  Gol do Brasil - Marquinhos \\nVenezuela 1x1 Bra...\n",
       "19934  Venezuela  ● ELIMINATÓRIAS COPA DO MUNDO ●\\nGOOOOOOOOOOOO...\n",
       "19935  Venezuela  Venezuela tomou Gol, agora eles querem apelar ..."
      ]
     },
     "execution_count": 16,
     "metadata": {},
     "output_type": "execute_result"
    }
   ],
   "source": [
    "#separa do datraframe gigante apenas as linhas que tem um tema especifico\n",
    "df_de_um_tema = df2.query('tema == \"'+ s +'\"')\n",
    "df_de_um_tema.head()"
   ]
  },
  {
   "cell_type": "code",
   "execution_count": 23,
   "id": "a0f26dd8",
   "metadata": {},
   "outputs": [
    {
     "ename": "NameError",
     "evalue": "name 'nltk' is not defined",
     "output_type": "error",
     "traceback": [
      "\u001b[0;31m---------------------------------------------------------------------------\u001b[0m",
      "\u001b[0;31mNameError\u001b[0m                                 Traceback (most recent call last)",
      "\u001b[0;32m/tmp/ipykernel_29106/3151599016.py\u001b[0m in \u001b[0;36m<module>\u001b[0;34m\u001b[0m\n\u001b[1;32m      3\u001b[0m \u001b[0;31m#processa os dados para passar pro modelo\u001b[0m\u001b[0;34m\u001b[0m\u001b[0;34m\u001b[0m\u001b[0;34m\u001b[0m\u001b[0m\n\u001b[1;32m      4\u001b[0m \u001b[0mtweets\u001b[0m \u001b[0;34m=\u001b[0m \u001b[0mdf_de_um_tema\u001b[0m\u001b[0;34m[\u001b[0m\u001b[0;34m'texto'\u001b[0m\u001b[0;34m]\u001b[0m\u001b[0;34m\u001b[0m\u001b[0;34m\u001b[0m\u001b[0m\n\u001b[0;32m----> 5\u001b[0;31m \u001b[0mtweets\u001b[0m \u001b[0;34m=\u001b[0m \u001b[0;34m[\u001b[0m\u001b[0mPreprocessing\u001b[0m\u001b[0;34m(\u001b[0m\u001b[0mi\u001b[0m\u001b[0;34m)\u001b[0m \u001b[0;32mfor\u001b[0m \u001b[0mi\u001b[0m \u001b[0;32min\u001b[0m \u001b[0mtweets\u001b[0m\u001b[0;34m]\u001b[0m\u001b[0;34m\u001b[0m\u001b[0;34m\u001b[0m\u001b[0m\n\u001b[0m\u001b[1;32m      6\u001b[0m \u001b[0mtweets_testes\u001b[0m \u001b[0;34m=\u001b[0m \u001b[0mvectorizer\u001b[0m\u001b[0;34m.\u001b[0m\u001b[0mtransform\u001b[0m\u001b[0;34m(\u001b[0m\u001b[0mtweets\u001b[0m\u001b[0;34m)\u001b[0m\u001b[0;34m\u001b[0m\u001b[0;34m\u001b[0m\u001b[0m\n\u001b[1;32m      7\u001b[0m \u001b[0;34m\u001b[0m\u001b[0m\n",
      "\u001b[0;32m/tmp/ipykernel_29106/3151599016.py\u001b[0m in \u001b[0;36m<listcomp>\u001b[0;34m(.0)\u001b[0m\n\u001b[1;32m      3\u001b[0m \u001b[0;31m#processa os dados para passar pro modelo\u001b[0m\u001b[0;34m\u001b[0m\u001b[0;34m\u001b[0m\u001b[0;34m\u001b[0m\u001b[0m\n\u001b[1;32m      4\u001b[0m \u001b[0mtweets\u001b[0m \u001b[0;34m=\u001b[0m \u001b[0mdf_de_um_tema\u001b[0m\u001b[0;34m[\u001b[0m\u001b[0;34m'texto'\u001b[0m\u001b[0;34m]\u001b[0m\u001b[0;34m\u001b[0m\u001b[0;34m\u001b[0m\u001b[0m\n\u001b[0;32m----> 5\u001b[0;31m \u001b[0mtweets\u001b[0m \u001b[0;34m=\u001b[0m \u001b[0;34m[\u001b[0m\u001b[0mPreprocessing\u001b[0m\u001b[0;34m(\u001b[0m\u001b[0mi\u001b[0m\u001b[0;34m)\u001b[0m \u001b[0;32mfor\u001b[0m \u001b[0mi\u001b[0m \u001b[0;32min\u001b[0m \u001b[0mtweets\u001b[0m\u001b[0;34m]\u001b[0m\u001b[0;34m\u001b[0m\u001b[0;34m\u001b[0m\u001b[0m\n\u001b[0m\u001b[1;32m      6\u001b[0m \u001b[0mtweets_testes\u001b[0m \u001b[0;34m=\u001b[0m \u001b[0mvectorizer\u001b[0m\u001b[0;34m.\u001b[0m\u001b[0mtransform\u001b[0m\u001b[0;34m(\u001b[0m\u001b[0mtweets\u001b[0m\u001b[0;34m)\u001b[0m\u001b[0;34m\u001b[0m\u001b[0;34m\u001b[0m\u001b[0m\n\u001b[1;32m      7\u001b[0m \u001b[0;34m\u001b[0m\u001b[0m\n",
      "\u001b[0;32m/tmp/ipykernel_29106/2652968379.py\u001b[0m in \u001b[0;36mPreprocessing\u001b[0;34m(instancia)\u001b[0m\n\u001b[1;32m      1\u001b[0m \u001b[0;32mdef\u001b[0m \u001b[0mPreprocessing\u001b[0m\u001b[0;34m(\u001b[0m\u001b[0minstancia\u001b[0m\u001b[0;34m)\u001b[0m\u001b[0;34m:\u001b[0m\u001b[0;34m\u001b[0m\u001b[0;34m\u001b[0m\u001b[0m\n\u001b[1;32m      2\u001b[0m     \u001b[0minstancia\u001b[0m \u001b[0;34m=\u001b[0m \u001b[0mre\u001b[0m\u001b[0;34m.\u001b[0m\u001b[0msub\u001b[0m\u001b[0;34m(\u001b[0m\u001b[0;34mr\"http\\S+\"\u001b[0m\u001b[0;34m,\u001b[0m \u001b[0;34m\"\"\u001b[0m\u001b[0;34m,\u001b[0m \u001b[0minstancia\u001b[0m\u001b[0;34m)\u001b[0m\u001b[0;34m.\u001b[0m\u001b[0mlower\u001b[0m\u001b[0;34m(\u001b[0m\u001b[0;34m)\u001b[0m\u001b[0;34m.\u001b[0m\u001b[0mreplace\u001b[0m\u001b[0;34m(\u001b[0m\u001b[0;34m'.'\u001b[0m\u001b[0;34m,\u001b[0m\u001b[0;34m''\u001b[0m\u001b[0;34m)\u001b[0m\u001b[0;34m.\u001b[0m\u001b[0mreplace\u001b[0m\u001b[0;34m(\u001b[0m\u001b[0;34m';'\u001b[0m\u001b[0;34m,\u001b[0m\u001b[0;34m''\u001b[0m\u001b[0;34m)\u001b[0m\u001b[0;34m.\u001b[0m\u001b[0mreplace\u001b[0m\u001b[0;34m(\u001b[0m\u001b[0;34m'-'\u001b[0m\u001b[0;34m,\u001b[0m\u001b[0;34m''\u001b[0m\u001b[0;34m)\u001b[0m\u001b[0;34m.\u001b[0m\u001b[0mreplace\u001b[0m\u001b[0;34m(\u001b[0m\u001b[0;34m':'\u001b[0m\u001b[0;34m,\u001b[0m\u001b[0;34m''\u001b[0m\u001b[0;34m)\u001b[0m\u001b[0;34m.\u001b[0m\u001b[0mreplace\u001b[0m\u001b[0;34m(\u001b[0m\u001b[0;34m')'\u001b[0m\u001b[0;34m,\u001b[0m\u001b[0;34m''\u001b[0m\u001b[0;34m)\u001b[0m\u001b[0;34m.\u001b[0m\u001b[0mreplace\u001b[0m\u001b[0;34m(\u001b[0m\u001b[0;34m'\"'\u001b[0m\u001b[0;34m,\u001b[0m\u001b[0;34m''\u001b[0m\u001b[0;34m)\u001b[0m\u001b[0;34m\u001b[0m\u001b[0;34m\u001b[0m\u001b[0m\n\u001b[0;32m----> 3\u001b[0;31m     \u001b[0mstopwords\u001b[0m \u001b[0;34m=\u001b[0m \u001b[0mset\u001b[0m\u001b[0;34m(\u001b[0m\u001b[0mnltk\u001b[0m\u001b[0;34m.\u001b[0m\u001b[0mcorpus\u001b[0m\u001b[0;34m.\u001b[0m\u001b[0mstopwords\u001b[0m\u001b[0;34m.\u001b[0m\u001b[0mwords\u001b[0m\u001b[0;34m(\u001b[0m\u001b[0;34m'portuguese'\u001b[0m\u001b[0;34m)\u001b[0m\u001b[0;34m)\u001b[0m\u001b[0;34m\u001b[0m\u001b[0;34m\u001b[0m\u001b[0m\n\u001b[0m\u001b[1;32m      4\u001b[0m     \u001b[0mpalavras\u001b[0m \u001b[0;34m=\u001b[0m \u001b[0;34m[\u001b[0m\u001b[0mi\u001b[0m \u001b[0;32mfor\u001b[0m \u001b[0mi\u001b[0m \u001b[0;32min\u001b[0m \u001b[0minstancia\u001b[0m\u001b[0;34m.\u001b[0m\u001b[0msplit\u001b[0m\u001b[0;34m(\u001b[0m\u001b[0;34m)\u001b[0m \u001b[0;32mif\u001b[0m \u001b[0;32mnot\u001b[0m \u001b[0mi\u001b[0m \u001b[0;32min\u001b[0m \u001b[0mstopwords\u001b[0m\u001b[0;34m]\u001b[0m\u001b[0;34m\u001b[0m\u001b[0;34m\u001b[0m\u001b[0m\n\u001b[1;32m      5\u001b[0m     \u001b[0;32mreturn\u001b[0m \u001b[0;34m(\u001b[0m\u001b[0;34m\" \"\u001b[0m\u001b[0;34m.\u001b[0m\u001b[0mjoin\u001b[0m\u001b[0;34m(\u001b[0m\u001b[0mpalavras\u001b[0m\u001b[0;34m)\u001b[0m\u001b[0;34m)\u001b[0m\u001b[0;34m\u001b[0m\u001b[0;34m\u001b[0m\u001b[0m\n",
      "\u001b[0;31mNameError\u001b[0m: name 'nltk' is not defined"
     ]
    }
   ],
   "source": [
    "#verifica se o sentimento daquele tema é negativo ou positivo\n",
    "\n",
    "#processa os dados para passar pro modelo\n",
    "tweets = df_de_um_tema['texto']\n",
    "tweets = [Preprocessing(i) for i in tweets]\n",
    "tweets_testes = vectorizer.transform(tweets)\n",
    "\n",
    "# 1= negativo\n",
    "# 0= positivo\n",
    "positivo=0\n",
    "negativo=0\n",
    "\n",
    "#conta qual sentimento mais aparece\n",
    "for t, c in zip (tweets,modelo.predict(tweets_testes)):\n",
    "    if(c==1):\n",
    "        negativo+=1\n",
    "    else:\n",
    "        positivo+=1\n",
    "        \n",
    "if(negativo>positivo):\n",
    "    print(\"Negativo\")\n",
    "else:\n",
    "    print(\"Positivo\")"
   ]
  },
  {
   "cell_type": "code",
   "execution_count": null,
   "id": "c59b8c05",
   "metadata": {},
   "outputs": [],
   "source": []
  }
 ],
 "metadata": {
  "kernelspec": {
   "display_name": "Python 3 (ipykernel)",
   "language": "python",
   "name": "python3"
  },
  "language_info": {
   "codemirror_mode": {
    "name": "ipython",
    "version": 3
   },
   "file_extension": ".py",
   "mimetype": "text/x-python",
   "name": "python",
   "nbconvert_exporter": "python",
   "pygments_lexer": "ipython3",
   "version": "3.8.10"
  }
 },
 "nbformat": 4,
 "nbformat_minor": 5
}
