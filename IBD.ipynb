{
 "cells": [
  {
   "cell_type": "code",
   "execution_count": 17,
   "id": "e5970fbb",
   "metadata": {},
   "outputs": [],
   "source": [
    "import mysql.connector\n",
    "from mysql.connector import errorcode"
   ]
  },
  {
   "cell_type": "code",
   "execution_count": 34,
   "id": "fb9b7106",
   "metadata": {},
   "outputs": [],
   "source": [
    "cnx = mysql.connector.connect(user='thiago', password='@Senha2212', database='hotel')\n",
    "cursor = cnx.cursor()"
   ]
  },
  {
   "cell_type": "code",
   "execution_count": 51,
   "id": "5d1a19d4",
   "metadata": {},
   "outputs": [],
   "source": [
    "#adicionar clientes\n",
    "add_cliente = (\"INSERT INTO cliente \"\n",
    "               \"(nome, rg, sexo, fone) \"\n",
    "               \"VALUES (%s, %s, %s, %s)\")\n",
    "\n",
    "#adicionar quartos\n",
    "add_quarto = (\"INSERT INTO quarto \"\n",
    "               \"(tipo, preco, descricao, numero, andar) \"\n",
    "               \"VALUES (%s, %s, %s, %s, %s)\")\n",
    "\n",
    "#adicionar quartos\n",
    "add_servico = (\"INSERT INTO servico \"\n",
    "               \"(tipo, valor, descricao) \"\n",
    "               \"VALUES (%s, %s, %s)\")\n",
    "\n",
    "#adicionar reserva\n",
    "add_reserva = (\"INSERT INTO reserva \"\n",
    "               \"(dia, numero_dias, id_cliente, id_quarto) \"\n",
    "               \"VALUES (%s, %s, %s,%s, %s)\")\n",
    "\n",
    "#adicionar ocupacao\n",
    "add_ocupacao = (\"INSERT INTO ocupacao \"\n",
    "               \"(entrada, saida, id_cliente, id_quarto) \"\n",
    "               \"VALUES (%s, %s, %s,%s, %s)\")\n",
    "\n",
    "#adicionar ocupacao_servico\n",
    "add_ocupacao_servico = (\"INSERT INTO ocupacao_servico \"\n",
    "               \"(id_servico, id_ocupacao) \"\n",
    "               \"VALUES (%s, %s, %s,%s, %s)\")"
   ]
  },
  {
   "cell_type": "code",
   "execution_count": 97,
   "id": "94872727",
   "metadata": {},
   "outputs": [
    {
     "ename": "IntegrityError",
     "evalue": "1062 (23000): Duplicate entry '191079972' for key 'cliente.rg'",
     "output_type": "error",
     "traceback": [
      "\u001b[0;31m---------------------------------------------------------------------------\u001b[0m",
      "\u001b[0;31mMySQLInterfaceError\u001b[0m                       Traceback (most recent call last)",
      "\u001b[0;32m~/.local/lib/python3.8/site-packages/mysql/connector/connection_cext.py\u001b[0m in \u001b[0;36mcmd_query\u001b[0;34m(self, query, raw, buffered, raw_as_string)\u001b[0m\n\u001b[1;32m    516\u001b[0m                 \u001b[0mquery\u001b[0m \u001b[0;34m=\u001b[0m \u001b[0mquery\u001b[0m\u001b[0;34m.\u001b[0m\u001b[0mencode\u001b[0m\u001b[0;34m(\u001b[0m\u001b[0;34m'utf-8'\u001b[0m\u001b[0;34m)\u001b[0m\u001b[0;34m\u001b[0m\u001b[0;34m\u001b[0m\u001b[0m\n\u001b[0;32m--> 517\u001b[0;31m             self._cmysql.query(query,\n\u001b[0m\u001b[1;32m    518\u001b[0m                                \u001b[0mraw\u001b[0m\u001b[0;34m=\u001b[0m\u001b[0mraw\u001b[0m\u001b[0;34m,\u001b[0m \u001b[0mbuffered\u001b[0m\u001b[0;34m=\u001b[0m\u001b[0mbuffered\u001b[0m\u001b[0;34m,\u001b[0m\u001b[0;34m\u001b[0m\u001b[0;34m\u001b[0m\u001b[0m\n",
      "\u001b[0;31mMySQLInterfaceError\u001b[0m: Duplicate entry '191079972' for key 'cliente.rg'",
      "\nDuring handling of the above exception, another exception occurred:\n",
      "\u001b[0;31mIntegrityError\u001b[0m                            Traceback (most recent call last)",
      "\u001b[0;32m/tmp/ipykernel_7171/2264017700.py\u001b[0m in \u001b[0;36m<module>\u001b[0;34m\u001b[0m\n\u001b[1;32m      8\u001b[0m         \u001b[0mi\u001b[0m\u001b[0;34m=\u001b[0m\u001b[0;36m0\u001b[0m\u001b[0;34m\u001b[0m\u001b[0;34m\u001b[0m\u001b[0m\n\u001b[1;32m      9\u001b[0m         \u001b[0;31m#inserir novo cliente\u001b[0m\u001b[0;34m\u001b[0m\u001b[0;34m\u001b[0m\u001b[0;34m\u001b[0m\u001b[0m\n\u001b[0;32m---> 10\u001b[0;31m         \u001b[0mcursor\u001b[0m\u001b[0;34m.\u001b[0m\u001b[0mexecute\u001b[0m\u001b[0;34m(\u001b[0m\u001b[0madd_cliente\u001b[0m\u001b[0;34m,\u001b[0m \u001b[0mdados_cliente\u001b[0m\u001b[0;34m)\u001b[0m\u001b[0;34m\u001b[0m\u001b[0;34m\u001b[0m\u001b[0m\n\u001b[0m\u001b[1;32m     11\u001b[0m         \u001b[0memp_no\u001b[0m \u001b[0;34m=\u001b[0m \u001b[0mcursor\u001b[0m\u001b[0;34m.\u001b[0m\u001b[0mlastrowid\u001b[0m\u001b[0;34m\u001b[0m\u001b[0;34m\u001b[0m\u001b[0m\n\u001b[1;32m     12\u001b[0m         \u001b[0mcnx\u001b[0m\u001b[0;34m.\u001b[0m\u001b[0mcommit\u001b[0m\u001b[0;34m(\u001b[0m\u001b[0;34m)\u001b[0m\u001b[0;34m\u001b[0m\u001b[0;34m\u001b[0m\u001b[0m\n",
      "\u001b[0;32m~/.local/lib/python3.8/site-packages/mysql/connector/cursor_cext.py\u001b[0m in \u001b[0;36mexecute\u001b[0;34m(self, operation, params, multi)\u001b[0m\n\u001b[1;32m    268\u001b[0m \u001b[0;34m\u001b[0m\u001b[0m\n\u001b[1;32m    269\u001b[0m         \u001b[0;32mtry\u001b[0m\u001b[0;34m:\u001b[0m\u001b[0;34m\u001b[0m\u001b[0;34m\u001b[0m\u001b[0m\n\u001b[0;32m--> 270\u001b[0;31m             result = self._cnx.cmd_query(stmt, raw=self._raw,\n\u001b[0m\u001b[1;32m    271\u001b[0m                                          \u001b[0mbuffered\u001b[0m\u001b[0;34m=\u001b[0m\u001b[0mself\u001b[0m\u001b[0;34m.\u001b[0m\u001b[0m_buffered\u001b[0m\u001b[0;34m,\u001b[0m\u001b[0;34m\u001b[0m\u001b[0;34m\u001b[0m\u001b[0m\n\u001b[1;32m    272\u001b[0m                                          raw_as_string=self._raw_as_string)\n",
      "\u001b[0;32m~/.local/lib/python3.8/site-packages/mysql/connector/connection_cext.py\u001b[0m in \u001b[0;36mcmd_query\u001b[0;34m(self, query, raw, buffered, raw_as_string)\u001b[0m\n\u001b[1;32m    520\u001b[0m                                query_attrs=self._query_attrs)\n\u001b[1;32m    521\u001b[0m         \u001b[0;32mexcept\u001b[0m \u001b[0mMySQLInterfaceError\u001b[0m \u001b[0;32mas\u001b[0m \u001b[0mexc\u001b[0m\u001b[0;34m:\u001b[0m\u001b[0;34m\u001b[0m\u001b[0;34m\u001b[0m\u001b[0m\n\u001b[0;32m--> 522\u001b[0;31m             raise errors.get_mysql_exception(exc.errno, msg=exc.msg,\n\u001b[0m\u001b[1;32m    523\u001b[0m                                              sqlstate=exc.sqlstate)\n\u001b[1;32m    524\u001b[0m         \u001b[0;32mexcept\u001b[0m \u001b[0mAttributeError\u001b[0m\u001b[0;34m:\u001b[0m\u001b[0;34m\u001b[0m\u001b[0;34m\u001b[0m\u001b[0m\n",
      "\u001b[0;31mIntegrityError\u001b[0m: 1062 (23000): Duplicate entry '191079972' for key 'cliente.rg'"
     ]
    }
   ],
   "source": [
    "#ler o arquivo dos clientes\n",
    "file_clientes = open('populando_cliente.txt', 'r')\n",
    "dados_cliente=[]\n",
    "i=0\n",
    "for linha in file_clientes:\n",
    "    dado= linha.replace('\\n','')   \n",
    "    dados_cliente.append(dado)\n",
    "    i=i+1\n",
    "    if(i>=4): #checa se capturou os 4 dados \n",
    "        i=0\n",
    "        #inserir novo cliente\n",
    "        cursor.execute(add_cliente, dados_cliente)\n",
    "        emp_no = cursor.lastrowid\n",
    "        cnx.commit()\n",
    "        dados_cliente=[]\n",
    "        \n",
    "file_clientes.close()"
   ]
  },
  {
   "cell_type": "code",
   "execution_count": 70,
   "id": "17da3615",
   "metadata": {},
   "outputs": [],
   "source": [
    "#ler o arquivo dos clientes\n",
    "file_quarto = open('populando_quarto.txt', 'r')\n",
    "dados_quarto=[]\n",
    "i=0\n",
    "for linha in file_quarto:\n",
    "    dado= linha.replace('\\n','')   \n",
    "    dados_quarto.append(dado)\n",
    "    i=i+1\n",
    "    if(i>=4): #checa se capturou os 4 dados \n",
    "        i=0\n",
    "        #inserir novo quarto\n",
    "        cursor.execute(add_quarto, dados_quarto)\n",
    "        emp_no = cursor.lastrowid\n",
    "        cnx.commit()\n",
    "        dados_quarto=[]\n",
    "        \n",
    "file_quarto.close()"
   ]
  },
  {
   "cell_type": "code",
   "execution_count": null,
   "id": "a42809d9",
   "metadata": {},
   "outputs": [],
   "source": [
    "cursor.close()\n",
    "cnx.close()"
   ]
  }
 ],
 "metadata": {
  "kernelspec": {
   "display_name": "Python 3 (ipykernel)",
   "language": "python",
   "name": "python3"
  },
  "language_info": {
   "codemirror_mode": {
    "name": "ipython",
    "version": 3
   },
   "file_extension": ".py",
   "mimetype": "text/x-python",
   "name": "python",
   "nbconvert_exporter": "python",
   "pygments_lexer": "ipython3",
   "version": "3.8.10"
  }
 },
 "nbformat": 4,
 "nbformat_minor": 5
}
